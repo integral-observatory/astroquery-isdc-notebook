{
 "cells": [
  {
   "cell_type": "code",
   "execution_count": 1,
   "id": "delayed-george",
   "metadata": {},
   "outputs": [
    {
     "name": "stdout",
     "output_type": "stream",
     "text": [
      "intibisag2\n",
      "intspiagrb\n",
      "intomcvs\n",
      "intagncat\n",
      "intbsc\n",
      "integralao\n",
      "intgccat\n",
      "intibisag2\n",
      "intibisagn\n",
      "intibisass\n",
      "intibisgal\n",
      "intibisvhd\n",
      "intomcvs\n",
      "intpublic\n",
      "intrefcat\n",
      "intscw\n",
      "intscwpub\n",
      "intspiagrb\n",
      "intvarcat\n",
      "isgri4yrct\n",
      "sixsrvycat\n",
      "sixsrvycat\n"
     ]
    }
   ],
   "source": [
    "from astroquery.heasarc import Heasarc\n",
    "import astroquery\n",
    "#astroquery.heasarc.Conf.server.set('https://www.isdc.unige.ch/browse/w3query.pl')\n",
    "\n",
    "heasarc = Heasarc()\n",
    "\n",
    "t=heasarc.query_mission_list()\n",
    "t\n",
    "\n",
    "for r in t:\n",
    "    if 'INTEGRAL' in r['Table Description']:\n",
    "        print(r['Table'])\n",
    "#[a for a in x if 'INTEGRAL' in a]"
   ]
  },
  {
   "cell_type": "code",
   "execution_count": 17,
   "id": "equipped-communications",
   "metadata": {},
   "outputs": [
    {
     "data": {
      "text/html": [
       "<i>Table length=1</i>\n",
       "<table id=\"table139934790404320\" class=\"table-striped table-bordered table-condensed\">\n",
       "<thead><tr><th>SCW_ID</th><th>SCW_VER</th><th>SCW_TYPE</th><th>STATUS</th><th>DATA_IN_HEASARC</th><th>RA</th><th>DEC</th><th>GOOD_SPI</th><th>GOOD_ISGRI</th><th>GOOD_PICSIT</th><th>GOOD_JEMX1</th><th>GOOD_JEMX2</th><th>GOOD_OMC</th><th>START_DATE</th><th>END_DATE</th><th>OBS_ID</th><th>OBS_TYPE</th><th>PI_NAME</th><th>DATA_SIZE</th><th>BII</th><th>CREATION_DATE</th><th>DEC_Z</th><th>EXP_ID</th><th>IBIS_MODE</th><th>IJD_END</th><th>IJD_START</th><th>INGEST_DATE</th><th>JEMX1_MODE</th><th>JEMX2_MODE</th><th>LII</th><th>OBT_END</th><th>OBT_START</th><th>OMC_MODE</th><th>POSANGLE</th><th>RA_Z</th><th>SPI_MODE</th><th>SEARCH_OFFSET_</th></tr></thead>\n",
       "<thead><tr><th></th><th></th><th></th><th></th><th></th><th>DEGREE</th><th>DEGREE</th><th>S</th><th>S</th><th>S</th><th>S</th><th>S</th><th>S</th><th>MJD</th><th>MJD</th><th></th><th></th><th></th><th>BYTE</th><th>DEGREE</th><th>MJD</th><th>DEGREE</th><th></th><th></th><th>IJD</th><th>IJD</th><th>MJD</th><th></th><th></th><th>DEGREE</th><th></th><th></th><th></th><th>DEGREE</th><th>DEGREE</th><th></th><th></th></tr></thead>\n",
       "<thead><tr><th>bytes12</th><th>bytes7</th><th>bytes8</th><th>bytes6</th><th>bytes15</th><th>float64</th><th>float64</th><th>int32</th><th>int64</th><th>int64</th><th>int64</th><th>int64</th><th>int32</th><th>float64</th><th>float64</th><th>bytes11</th><th>bytes8</th><th>bytes18</th><th>float64</th><th>float64</th><th>float64</th><th>float64</th><th>bytes8</th><th>int32</th><th>float64</th><th>float64</th><th>float64</th><th>int64</th><th>int64</th><th>float64</th><th>float64</th><th>float64</th><th>int32</th><th>float64</th><th>float64</th><th>int32</th><th>bytes16</th></tr></thead>\n",
       "<tr><td>217700420010</td><td>001</td><td>POINTING</td><td>PUBLIC</td><td>Y</td><td>0.00000</td><td>0.00000</td><td>3478</td><td>3476</td><td>3442</td><td>3478</td><td>3478</td><td>3478</td><td>58849.164300197</td><td>58849.2051682814</td><td>16200160002</td><td>GENERAL</td><td>PROF. ROLAND DIEHL</td><td>153919488</td><td>-0.09697</td><td>58864.8677893519</td><td>-15.33069</td><td>21770003</td><td>41</td><td>7305.2</td><td>7305.2</td><td>58871.6337152778</td><td>41</td><td>41</td><td>111.45482</td><td>9019770229751810</td><td>9019766527229950</td><td>42</td><td>122.61</td><td>288.07297</td><td>41</td><td>4390.863 (CRAB)</td></tr>\n",
       "</table>"
      ],
      "text/plain": [
       "<Table length=1>\n",
       "   SCW_ID    SCW_VER SCW_TYPE STATUS ...    RA_Z   SPI_MODE  SEARCH_OFFSET_ \n",
       "                                     ...   DEGREE                           \n",
       "  bytes12     bytes7  bytes8  bytes6 ...  float64   int32       bytes16     \n",
       "------------ ------- -------- ------ ... --------- -------- ----------------\n",
       "217700420010 001     POINTING PUBLIC ... 288.07297       41 4390.863 (CRAB)"
      ]
     },
     "execution_count": 17,
     "metadata": {},
     "output_type": "execute_result"
    }
   ],
   "source": [
    "T_h=heasarc.query_object('Crab', mission='intscw', resultmax=1000000, radius=\"1000 deg\", cache=False,\n",
    "                       time=\"2020-01-01 03:56:30 .. 2020-01-01 04:55:10\",\n",
    "                       fields='All',\n",
    "   \n",
    "                        )\n",
    "T_h.sort('SCW_ID')\n",
    "T_h"
   ]
  },
  {
   "cell_type": "code",
   "execution_count": 56,
   "id": "approved-worse",
   "metadata": {},
   "outputs": [
    {
     "data": {
      "text/html": [
       "<i>Table length=1</i>\n",
       "<table id=\"table139934768374928\" class=\"table-striped table-bordered table-condensed\">\n",
       "<thead><tr><th>SCW_ID</th><th>SCW_VER</th><th>SCW_TYPE</th><th>RA_X</th><th>DEC_X</th><th>START_DATE</th><th>END_DATE</th><th>OBS_ID</th><th>OBS_TYPE</th><th>PS</th><th>PI_NAME</th><th>GOOD_SPI</th><th>GOOD_PICSIT</th><th>GOOD_ISGRI</th><th>GOOD_JEMX</th><th>GOOD_JEMX1</th><th>GOOD_JEMX2</th><th>GOOD_OMC</th><th>DSIZE</th><th>RA_Z</th><th>DEC_Z</th><th>POSANGLE</th><th>OBT_START</th><th>OBT_END</th><th>IJD_START</th><th>IJD_END</th><th>SPIMODE</th><th>IBISMODE</th><th>JMX1MODE</th><th>JMX2MODE</th><th>OMCMODE</th><th>EXP_ID</th><th>CREA_DT</th><th>ING_DT</th><th>_SEARCH_OFFSET</th></tr></thead>\n",
       "<thead><tr><th></th><th></th><th></th><th></th><th></th><th>ISO</th><th>ISO</th><th></th><th></th><th></th><th></th><th></th><th></th><th></th><th></th><th></th><th></th><th></th><th></th><th></th><th></th><th></th><th></th><th></th><th></th><th></th><th></th><th></th><th></th><th></th><th></th><th></th><th>ISO</th><th>ISO</th><th></th></tr></thead>\n",
       "<thead><tr><th>bytes12</th><th>bytes7</th><th>bytes8</th><th>bytes10</th><th>bytes9</th><th>bytes19</th><th>bytes19</th><th>bytes11</th><th>bytes8</th><th>bytes6</th><th>bytes18</th><th>bytes8</th><th>bytes11</th><th>bytes10</th><th>bytes9</th><th>bytes10</th><th>bytes10</th><th>bytes8</th><th>bytes9</th><th>bytes16</th><th>bytes17</th><th>bytes16</th><th>bytes20</th><th>bytes20</th><th>bytes16</th><th>bytes16</th><th>bytes7</th><th>bytes8</th><th>bytes8</th><th>bytes8</th><th>bytes7</th><th>bytes8</th><th>bytes19</th><th>bytes19</th><th>float64</th></tr></thead>\n",
       "<tr><td>217700420010</td><td>001</td><td>POINTING</td><td>348.929047</td><td>60.623974</td><td>2020-01-01 03:56:40</td><td>2020-01-01 04:55:31</td><td>16200160002</td><td>GENERAL</td><td>PUBLIC</td><td>PROF.\n",
       "ROLAND\n",
       "DIEHL</td><td>3478</td><td>3442</td><td>3476</td><td>3478</td><td>3478</td><td>3478</td><td>3478</td><td>153919488</td><td>288.072967529297</td><td>-15.3306941986084</td><td>122.614071481561</td><td>9.019766527229952E15</td><td>9.019770229751808E15</td><td>7305.16510093771</td><td>7305.20596902216</td><td>41</td><td>41</td><td>41</td><td>41</td><td>42</td><td>21770003</td><td>2020-01-16 20:49:37</td><td>2020-01-23 15:12:33</td><td>4390.863</td></tr>\n",
       "</table>"
      ],
      "text/plain": [
       "<Table length=1>\n",
       "   SCW_ID    SCW_VER SCW_TYPE ...        ING_DT       _SEARCH_OFFSET\n",
       "                              ...         ISO                       \n",
       "  bytes12     bytes7  bytes8  ...       bytes19          float64    \n",
       "------------ ------- -------- ... ------------------- --------------\n",
       "217700420010 001     POINTING ... 2020-01-23 15:12:33       4390.863"
      ]
     },
     "execution_count": 56,
     "metadata": {},
     "output_type": "execute_result"
    }
   ],
   "source": [
    "with astroquery.heasarc.Conf.server.set_temp('https://www.isdc.unige.ch/browse/w3query.pl'):\n",
    "    T_i=heasarc.query_object('Crab', mission='integral_rev3_scw', resultmax=1000000, radius=\"1000 deg\", cache=False,\n",
    "    time=\"2020-01-01 03:56:30 .. 2020-01-01 04:55:10\",\n",
    "                             fields='All'\n",
    "                            )\n",
    "T_i.sort('SCW_ID')\n",
    "T_i"
   ]
  },
  {
   "cell_type": "code",
   "execution_count": 76,
   "id": "facial-picnic",
   "metadata": {},
   "outputs": [
    {
     "name": "stdout",
     "output_type": "stream",
     "text": [
      "BII                            None                  -0.09697            \n",
      "CREATION_DATE                  None                  58864.8677893519    \n",
      "CREA_DT                        2020-01-16 20:49:37   None                \n",
      "DATA_IN_HEASARC                None                  Y                   \n",
      "DATA_SIZE                      None                  153919488.0         \n",
      "DEC                            None                  0.0                 \n",
      "DEC_X                          60.623974             None                \n",
      "DEC_Z                          -15.3306941986084     -15.33069           \n",
      "DSIZE                          153919488             None                \n",
      "END_DATE                       2020-01-01 04:55:31   58849.2051682814    \n",
      "EXP_ID                         21770003              21770003            \n",
      "GOOD_ISGRI                           3476            3476                \n",
      "GOOD_JEMX                           3478             None                \n",
      "GOOD_JEMX1                           3478            3478                \n",
      "GOOD_JEMX2                           3478            3478                \n",
      "GOOD_OMC                           3478              3478                \n",
      "GOOD_PICSIT                           3442           3442                \n",
      "GOOD_SPI                           3478              3478                \n",
      "IBISMODE                             41              None                \n",
      "IBIS_MODE                      None                  41                  \n",
      "IJD_END                        7305.20596902216      7305.20596902216    \n",
      "IJD_START                      7305.16510093771      7305.16510093771    \n",
      "INGEST_DATE                    None                  58871.6337152778    \n",
      "ING_DT                         2020-01-23 15:12:33   None                \n",
      "JEMX1_MODE                     None                  41                  \n",
      "JEMX2_MODE                     None                  41                  \n",
      "JMX1MODE                             41              None                \n",
      "JMX2MODE                             41              None                \n",
      "LII                            None                  111.45482           \n",
      "OBS_ID                         16200160002           16200160002         \n",
      "OBS_TYPE                       GENERAL               GENERAL             \n",
      "OBT_END                        9.019770229751808E15  9019770229751810.0  \n",
      "OBT_START                      9.019766527229952E15  9019766527229950.0  \n",
      "OMCMODE                             42               None                \n",
      "OMC_MODE                       None                  42                  \n",
      "PI_NAME                        PROF.\n",
      "ROLAND\n",
      "DIEHL    PROF. ROLAND DIEHL  \n",
      "POSANGLE                       122.614071481561      122.614071481561    \n",
      "PS                             PUBLIC                None                \n",
      "RA                             None                  0.0                 \n",
      "RA_X                           348.929047            None                \n",
      "RA_Z                           288.072967529297      288.07297           \n",
      "SCW_ID                         217700420010          217700420010        \n",
      "SCW_TYPE                       POINTING              POINTING            \n",
      "SCW_VER                        001                   001                 \n",
      "SEARCH_OFFSET_                 None                  4390.863 (CRAB)\n",
      "    \n",
      "SPIMODE                             41               None                \n",
      "SPI_MODE                       None                  41                  \n",
      "START_DATE                     2020-01-01 03:56:40   58849.164300197     \n",
      "STATUS                         None                  PUBLIC              \n",
      "_SEARCH_OFFSET                 4390.863              None                \n"
     ]
    }
   ],
   "source": [
    "for n in sorted(set(list(T_i.colnames) + list(T_h.colnames))):\n",
    "    print(f\"{n:30s} {str(dict(T_i[0]).get(n)):20s}  {str(dict(T_h[0]).get(n)):20s}\")"
   ]
  },
  {
   "cell_type": "code",
   "execution_count": 89,
   "id": "stretch-current",
   "metadata": {},
   "outputs": [
    {
     "data": {
      "text/html": [
       "<i>Table length=5</i>\n",
       "<table id=\"table139934789466960\" class=\"table-striped table-bordered table-condensed\">\n",
       "<thead><tr><th>SCW_ID</th><th>SCW_VER</th><th>SCW_TYPE</th><th>RA_X</th><th>DEC_X</th><th>START_DATE</th><th>END_DATE</th><th>OBS_ID</th><th>OBS_TYPE</th><th>PS</th><th>PI_NAME</th><th>GOOD_SPI</th><th>GOOD_PICSIT</th><th>GOOD_ISGRI</th><th>GOOD_JEMX</th><th>GOOD_JEMX1</th><th>GOOD_JEMX2</th><th>GOOD_OMC</th><th>DSIZE</th><th>_SEARCH_OFFSET</th></tr></thead>\n",
       "<thead><tr><th></th><th></th><th></th><th></th><th></th><th>ISO</th><th>ISO</th><th></th><th></th><th></th><th></th><th></th><th></th><th></th><th></th><th></th><th></th><th></th><th></th><th></th></tr></thead>\n",
       "<thead><tr><th>bytes12</th><th>bytes7</th><th>bytes8</th><th>bytes10</th><th>bytes10</th><th>bytes19</th><th>bytes19</th><th>bytes11</th><th>bytes11</th><th>bytes7</th><th>bytes21</th><th>bytes8</th><th>bytes11</th><th>bytes10</th><th>bytes9</th><th>bytes10</th><th>bytes10</th><th>bytes8</th><th>bytes9</th><th>float64</th></tr></thead>\n",
       "<tr><td>232300950010</td><td>001</td><td>POINTING</td><td>51.456749</td><td>60.012390</td><td>2021-01-23 23:42:50</td><td>2021-01-24 00:12:42</td><td>18200080050</td><td>GENERAL</td><td>PUBLIC</td><td>DR.\n",
       "ANGELA\n",
       "BAZZANO</td><td>1736</td><td>1717</td><td>1724</td><td>1736</td><td>1736</td><td>1736</td><td>1736</td><td>83435520</td><td>2652.221</td></tr>\n",
       "<tr><td>232300950021</td><td>001</td><td>SLEW</td><td>51.118385</td><td>61.099625</td><td>2021-01-24 00:12:42</td><td>2021-01-24 00:14:38</td><td>18200080050</td><td>GENERAL</td><td>PUBLIC</td><td>DR.\n",
       "ANGELA\n",
       "BAZZANO</td><td>115</td><td>0</td><td>116</td><td>53</td><td>53</td><td>29</td><td>0</td><td>6197248</td><td>2705.475</td></tr>\n",
       "<tr><td>232300960010</td><td>001</td><td>POINTING</td><td>50.775791</td><td>62.163082</td><td>2021-01-24 00:14:38</td><td>2021-01-24 00:44:38</td><td>18200080050</td><td>GENERAL</td><td>PUBLIC</td><td>DR.\n",
       "ANGELA\n",
       "BAZZANO</td><td>1773</td><td>1749</td><td>1727</td><td>1253</td><td>1245</td><td>1253</td><td>1767</td><td>83312640</td><td>2757.793</td></tr>\n",
       "<tr><td>232300960021</td><td>001</td><td>SLEW</td><td>50.446634</td><td>63.125838</td><td>2021-01-24 00:44:38</td><td>2021-01-24 00:46:57</td><td>18200080050</td><td>GENERAL</td><td>PUBLIC</td><td>DR.\n",
       "ANGELA\n",
       "BAZZANO</td><td>138</td><td>0</td><td>139</td><td>0</td><td>0</td><td>0</td><td>0</td><td>6864896</td><td>2805.488</td></tr>\n",
       "<tr><td>232300970010</td><td>001</td><td>POINTING</td><td>50.025791</td><td>64.309059</td><td>2021-01-24 00:46:57</td><td>2021-01-24 02:49:15</td><td>18200080050</td><td>GENERAL</td><td>PUBLIC</td><td>DR.\n",
       "ANGELA\n",
       "BAZZANO</td><td>6937</td><td>0</td><td>1752</td><td>0</td><td>0</td><td>0</td><td>1870</td><td>75100160</td><td>2864.306</td></tr>\n",
       "</table>"
      ],
      "text/plain": [
       "<Table length=5>\n",
       "   SCW_ID    SCW_VER SCW_TYPE    RA_X    ... GOOD_OMC   DSIZE   _SEARCH_OFFSET\n",
       "                                         ...                                  \n",
       "  bytes12     bytes7  bytes8   bytes10   ...  bytes8    bytes9     float64    \n",
       "------------ ------- -------- ---------- ... -------- --------- --------------\n",
       "232300950010 001     POINTING  51.456749 ...     1736  83435520       2652.221\n",
       "232300950021 001     SLEW      51.118385 ...        0   6197248       2705.475\n",
       "232300960010 001     POINTING  50.775791 ...     1767  83312640       2757.793\n",
       "232300960021 001     SLEW      50.446634 ...        0   6864896       2805.488\n",
       "232300970010 001     POINTING  50.025791 ...     1870  75100160       2864.306"
      ]
     },
     "execution_count": 89,
     "metadata": {},
     "output_type": "execute_result"
    }
   ],
   "source": [
    "T = (Time.now()- TimeDelta(30)).isot[:10] + \" .. \" + Time.now().isot[:10]\n",
    "\n",
    "def Q(mission):\n",
    "    return heasarc.query_object('Crab', mission=mission, time=T, resultmax=10000, radius='1000 deg')\n",
    "\n",
    "with astroquery.heasarc.Conf.server.set_temp('https://www.isdc.unige.ch/browse/w3query.pl'):\n",
    "    T_i = Q('integral_rev3_scw')\n",
    "\n",
    "    \n",
    "T_h = Q('intscw')\n",
    "\n",
    "T_i[-5:]"
   ]
  },
  {
   "cell_type": "code",
   "execution_count": 111,
   "id": "continuous-investigation",
   "metadata": {},
   "outputs": [
    {
     "data": {
      "text/plain": [
       "array([-6.50563317])"
      ]
     },
     "execution_count": 111,
     "metadata": {},
     "output_type": "execute_result"
    }
   ],
   "source": [
    "Time(float(T_h[-1:]['END_DATE']), format='mjd').mjd - Time(T_i[-1:]['END_DATE']).mjd"
   ]
  }
 ],
 "metadata": {
  "kernelspec": {
   "display_name": "Python 3",
   "language": "python",
   "name": "python3"
  },
  "language_info": {
   "codemirror_mode": {
    "name": "ipython",
    "version": 3
   },
   "file_extension": ".py",
   "mimetype": "text/x-python",
   "name": "python",
   "nbconvert_exporter": "python",
   "pygments_lexer": "ipython3",
   "version": "3.8.6"
  }
 },
 "nbformat": 4,
 "nbformat_minor": 5
}
